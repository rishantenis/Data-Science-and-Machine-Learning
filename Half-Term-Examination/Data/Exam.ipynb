{
 "cells": [
  {
   "cell_type": "markdown",
   "metadata": {},
   "source": [
    "## Half Term Examination"
   ]
  },
  {
   "cell_type": "markdown",
   "metadata": {},
   "source": [
    "### Question 1: Python Fundamentals"
   ]
  },
  {
   "cell_type": "code",
   "execution_count": 1,
   "metadata": {},
   "outputs": [
    {
     "name": "stdout",
     "output_type": "stream",
     "text": [
      "1\n",
      "2\n",
      "fizz\n",
      "4\n",
      "buzz\n",
      "fizz\n",
      "7\n",
      "8\n",
      "fizz\n",
      "buzz\n",
      "11\n",
      "fizz\n",
      "13\n",
      "14\n",
      "fizzbuzz\n"
     ]
    }
   ],
   "source": [
    "\n",
    "# a ) Control Structures\n",
    "\n",
    "\n",
    "def fizz_buzz(n):\n",
    "    for i in range(1, n+1):\n",
    "        if i % 3 == 0 and i % 5 == 0:\n",
    "            print(\"fizzbuzz\")\n",
    "        elif i % 3 == 0:\n",
    "            print(\"fizz\")\n",
    "        elif i % 5 == 0:\n",
    "            print(\"buzz\")\n",
    "        else:\n",
    "            print(i)\n",
    "fizz_buzz(15)"
   ]
  },
  {
   "cell_type": "code",
   "execution_count": 2,
   "metadata": {},
   "outputs": [
    {
     "name": "stdout",
     "output_type": "stream",
     "text": [
      "in insite of the function: 10\n"
     ]
    }
   ],
   "source": [
    "# b) Functions and Scope\n",
    "\n",
    "def example_function():\n",
    "    x = 10 \n",
    "    print(\"in insite of the function:\", x)\n",
    "example_function()"
   ]
  },
  {
   "cell_type": "markdown",
   "metadata": {},
   "source": [
    "### Question 2: Data Structures in Python"
   ]
  },
  {
   "cell_type": "code",
   "execution_count": 3,
   "metadata": {},
   "outputs": [],
   "source": [
    "# a) Advanced List Manipulation\n",
    "number_list = [3, 6, 2, 7, 5, 6, 8, 5, 8, 3, 7]\n",
    "def remo_dupli(lst):\n",
    "    uniq_nums = []  \n",
    "    for num in lst:\n",
    "        if num not in uniq_nums:\n",
    "            uniq_nums.append(num)\n",
    "    return uniq_nums\n",
    "\n",
    "uniq_nums = remo_dupli(number_list)"
   ]
  },
  {
   "cell_type": "code",
   "execution_count": 4,
   "metadata": {},
   "outputs": [],
   "source": [
    "def bubble_sort(lst):\n",
    "    n = len(lst)\n",
    "    for i in range(n - 1):\n",
    "        for j in range(n - 1 - i):\n",
    "            if lst[j] > lst[j + 1]:\n",
    "                lst[j], lst[j + 1] = lst[j + 1], lst[j]  \n",
    "    return lst\n",
    "\n",
    "sort_nums = bubble_sort(uniq_nums)"
   ]
  },
  {
   "cell_type": "code",
   "execution_count": 5,
   "metadata": {},
   "outputs": [],
   "source": [
    "def get_middle_3(lst):\n",
    "    mid = len(lst) // 2\n",
    "    return lst[mid - 1:mid + 2]\n",
    "\n",
    "middle_3 = get_middle_3(sort_nums)"
   ]
  },
  {
   "cell_type": "code",
   "execution_count": 6,
   "metadata": {},
   "outputs": [
    {
     "name": "stdout",
     "output_type": "stream",
     "text": [
      "unique list: [2, 3, 5, 6, 7, 8]\n",
      "sorted list: [2, 3, 5, 6, 7, 8]\n",
      "middle three element: [5, 6, 7]\n"
     ]
    }
   ],
   "source": [
    "print(\"unique list:\", uniq_nums)\n",
    "print(\"sorted list:\", sort_nums)\n",
    "print(\"middle three element:\", middle_3)"
   ]
  },
  {
   "cell_type": "code",
   "execution_count": 7,
   "metadata": {},
   "outputs": [
    {
     "name": "stdout",
     "output_type": "stream",
     "text": [
      "{'D': 68, 'a': 97, 't': 116, ' ': 32, 'S': 83, 'c': 99, 'i': 105, 'e': 101, 'n': 110}\n"
     ]
    }
   ],
   "source": [
    "# (b) Dictionary Comprehensions\n",
    "s = \"Data Science\"\n",
    "ascii_map = {char: ord(char) for char in s}\n",
    "print(ascii_map)"
   ]
  },
  {
   "cell_type": "markdown",
   "metadata": {},
   "source": [
    "### Question 3: NumPy Operations"
   ]
  },
  {
   "cell_type": "code",
   "execution_count": 8,
   "metadata": {},
   "outputs": [
    {
     "name": "stdout",
     "output_type": "stream",
     "text": [
      "4.4 array:\n",
      "[[ 1  2  3  4]\n",
      " [ 5  6  7  8]\n",
      " [ 9 10 11 12]\n",
      " [13 14 15 16]]\n"
     ]
    }
   ],
   "source": [
    "import numpy as np\n",
    "\n",
    "array_4x4 = np.arange(1, 17).reshape(4, 4)\n",
    "print(\"4.4 array:\")\n",
    "print(array_4x4)"
   ]
  },
  {
   "cell_type": "code",
   "execution_count": 9,
   "metadata": {},
   "outputs": [
    {
     "name": "stdout",
     "output_type": "stream",
     "text": [
      "reshape of 8.2 array:\n",
      "[[ 1  2]\n",
      " [ 3  4]\n",
      " [ 5  6]\n",
      " [ 7  8]\n",
      " [ 9 10]\n",
      " [11 12]\n",
      " [13 14]\n",
      " [15 16]]\n"
     ]
    }
   ],
   "source": [
    "array_8x2 = array_4x4.reshape(8, 2)\n",
    "print(\"reshape of 8.2 array:\")\n",
    "print(array_8x2)"
   ]
  },
  {
   "cell_type": "code",
   "execution_count": 10,
   "metadata": {},
   "outputs": [
    {
     "name": "stdout",
     "output_type": "stream",
     "text": [
      " Using dot product of the 4x4 array with transpose:\n",
      "[[ 30  70 110 150]\n",
      " [ 70 174 278 382]\n",
      " [110 278 446 614]\n",
      " [150 382 614 846]]\n"
     ]
    }
   ],
   "source": [
    "transpose_4x4 = array_4x4.T\n",
    "\n",
    "dot_product = np.dot(array_4x4, transpose_4x4)\n",
    "print(\" Using dot product of the 4x4 array with transpose:\")\n",
    "print(dot_product)"
   ]
  },
  {
   "cell_type": "code",
   "execution_count": 11,
   "metadata": {},
   "outputs": [
    {
     "name": "stdout",
     "output_type": "stream",
     "text": [
      "array convert to inte:\n",
      "[1 2 3 4]\n",
      "\n",
      "after broadcasting result:\n",
      "[[11 12 13 14]\n",
      " [21 22 23 24]\n",
      " [31 32 33 34]\n",
      " [41 42 43 44]]\n"
     ]
    }
   ],
   "source": [
    "# # b) Type Casting and Broadcasting\n",
    "\n",
    "import numpy as np\n",
    "a = np.array([1.5, 2.3, 3.7, 4.6])\n",
    "a_int = a.astype(int)\n",
    "print(\"array convert to inte:\")\n",
    "print(a_int)\n",
    "b = np.array([[10], [20], [30], [40]])\n",
    "result = b + a_int\n",
    "print(\"\\nafter broadcasting result:\")\n",
    "print(result)\n"
   ]
  },
  {
   "cell_type": "markdown",
   "metadata": {},
   "source": [
    "### Question 4: Data Analysis with Pandas"
   ]
  },
  {
   "cell_type": "code",
   "execution_count": 12,
   "metadata": {},
   "outputs": [],
   "source": [
    "# a) Data Loading and Cleaning\n",
    "import pandas as pd"
   ]
  },
  {
   "cell_type": "code",
   "execution_count": 13,
   "metadata": {},
   "outputs": [
    {
     "name": "stdout",
     "output_type": "stream",
     "text": [
      "first 5 rows fromthe dataset:\n",
      "  TransactionID CustomerID ProductID  Quantity  Price TransactionDate\n",
      "0          T001       C001      P001         2   20.0      2023-01-15\n",
      "1          T002       C002      P003         1   35.5      2023-01-16\n",
      "2          T003       C003      P002         5   15.0      2023-01-17\n",
      "3          T004       C001      P002         3   15.0      2023-02-01\n",
      "4          T005       C004      P001         1   20.0      2023-02-05\n"
     ]
    }
   ],
   "source": [
    "df = pd.read_csv('I:\\\\SWPU Research\\\\Research_Task\\\\BytesOfIntelligence\\\\Data-Science-and-Machine-Learning\\\\Half-Term-Examination\\\\Data\\\\transactions.csv')\n",
    "print(\"first 5 rows fromthe dataset:\")\n",
    "print(df.head())"
   ]
  },
  {
   "cell_type": "code",
   "execution_count": 14,
   "metadata": {},
   "outputs": [
    {
     "name": "stdout",
     "output_type": "stream",
     "text": [
      "\n",
      "missin values of each colum:\n",
      "TransactionID      0\n",
      "CustomerID         0\n",
      "ProductID          0\n",
      "Quantity           0\n",
      "Price              0\n",
      "TransactionDate    0\n",
      "dtype: int64\n"
     ]
    }
   ],
   "source": [
    "\n",
    "print(\"\\nmissin values of each colum:\")\n",
    "print(df.isnull().sum())"
   ]
  },
  {
   "cell_type": "code",
   "execution_count": 15,
   "metadata": {},
   "outputs": [],
   "source": [
    "if 'Quantity' in df.columns:\n",
    "    df['Quantity'].fillna(df['Quantity'].mean(), inplace=True)\n",
    "if 'Price' in df.columns:\n",
    "    df['Price'].fillna(df['Price'].mean(), inplace=True)"
   ]
  },
  {
   "cell_type": "code",
   "execution_count": 16,
   "metadata": {},
   "outputs": [
    {
     "name": "stdout",
     "output_type": "stream",
     "text": [
      "\n",
      "Data after handling missing values:\n",
      "TransactionID      0\n",
      "CustomerID         0\n",
      "ProductID          0\n",
      "Quantity           0\n",
      "Price              0\n",
      "TransactionDate    0\n",
      "dtype: int64\n"
     ]
    }
   ],
   "source": [
    "df.dropna(subset=['TransactionID', 'CustomerID', 'ProductID'], inplace=True)\n",
    "\n",
    "print(\"\\nData after handling missing values:\")\n",
    "print(df.isnull().sum())"
   ]
  },
  {
   "cell_type": "code",
   "execution_count": 17,
   "metadata": {},
   "outputs": [
    {
     "name": "stdout",
     "output_type": "stream",
     "text": [
      "\n",
      "dataset after adding 'Month' column:\n",
      "  TransactionID CustomerID ProductID  Quantity  Price TransactionDate  Month\n",
      "0          T001       C001      P001         2   20.0      2023-01-15      1\n",
      "1          T002       C002      P003         1   35.5      2023-01-16      1\n",
      "2          T003       C003      P002         5   15.0      2023-01-17      1\n",
      "3          T004       C001      P002         3   15.0      2023-02-01      2\n",
      "4          T005       C004      P001         1   20.0      2023-02-05      2\n"
     ]
    }
   ],
   "source": [
    "df['TransactionDate'] = pd.to_datetime(df['TransactionDate'], errors='coerce') \n",
    "df.dropna(subset=['TransactionDate'], inplace=True)  \n",
    "df['Month'] = df['TransactionDate'].dt.month \n",
    "\n",
    "print(\"\\ndataset after adding 'Month' column:\")\n",
    "print(df.head())"
   ]
  },
  {
   "cell_type": "code",
   "execution_count": 18,
   "metadata": {},
   "outputs": [
    {
     "name": "stdout",
     "output_type": "stream",
     "text": [
      "total revenue for each customer-ID:\n",
      "  CustomerID  Revenue\n",
      "0       C001    306.0\n",
      "1       C002    265.5\n",
      "2       C003    145.0\n",
      "3       C004    165.0\n",
      "4       C005    151.0\n"
     ]
    }
   ],
   "source": [
    "# b) Data Aggregation and Grouping\n",
    "\n",
    "df['Revenue'] = df['Quantity'] * df['Price']\n",
    "customer_revenue = df.groupby('CustomerID')['Revenue'].sum().reset_index() \n",
    "print(\"total revenue for each customer-ID:\")\n",
    "print(customer_revenue)"
   ]
  },
  {
   "cell_type": "code",
   "execution_count": 19,
   "metadata": {},
   "outputs": [
    {
     "name": "stdout",
     "output_type": "stream",
     "text": [
      "\n",
      "top five customers generated the most revenue:\n",
      "  CustomerID  Revenue\n",
      "0       C001    306.0\n",
      "1       C002    265.5\n",
      "3       C004    165.0\n",
      "4       C005    151.0\n",
      "2       C003    145.0\n"
     ]
    }
   ],
   "source": [
    "top_customers = customer_revenue.sort_values(by='Revenue', ascending=False).head(5)\n",
    "print(\"\\ntop five customers generated the most revenue:\")\n",
    "print(top_customers)"
   ]
  },
  {
   "cell_type": "code",
   "execution_count": 20,
   "metadata": {},
   "outputs": [
    {
     "data": {
      "text/html": [
       "<div>\n",
       "<style scoped>\n",
       "    .dataframe tbody tr th:only-of-type {\n",
       "        vertical-align: middle;\n",
       "    }\n",
       "\n",
       "    .dataframe tbody tr th {\n",
       "        vertical-align: top;\n",
       "    }\n",
       "\n",
       "    .dataframe thead th {\n",
       "        text-align: right;\n",
       "    }\n",
       "</style>\n",
       "<table border=\"1\" class=\"dataframe\">\n",
       "  <thead>\n",
       "    <tr style=\"text-align: right;\">\n",
       "      <th></th>\n",
       "      <th>CustomerID</th>\n",
       "      <th>Name</th>\n",
       "      <th>Segment</th>\n",
       "    </tr>\n",
       "  </thead>\n",
       "  <tbody>\n",
       "    <tr>\n",
       "      <th>0</th>\n",
       "      <td>C001</td>\n",
       "      <td>Alice Smith</td>\n",
       "      <td>Consumer</td>\n",
       "    </tr>\n",
       "    <tr>\n",
       "      <th>1</th>\n",
       "      <td>C002</td>\n",
       "      <td>Bob Johnson</td>\n",
       "      <td>Corporate</td>\n",
       "    </tr>\n",
       "    <tr>\n",
       "      <th>2</th>\n",
       "      <td>C003</td>\n",
       "      <td>Charlie Lee</td>\n",
       "      <td>Small Business</td>\n",
       "    </tr>\n",
       "    <tr>\n",
       "      <th>3</th>\n",
       "      <td>C004</td>\n",
       "      <td>Diana Prince</td>\n",
       "      <td>Consumer</td>\n",
       "    </tr>\n",
       "    <tr>\n",
       "      <th>4</th>\n",
       "      <td>C005</td>\n",
       "      <td>Edward Norton</td>\n",
       "      <td>Corporate</td>\n",
       "    </tr>\n",
       "  </tbody>\n",
       "</table>\n",
       "</div>"
      ],
      "text/plain": [
       "  CustomerID           Name         Segment\n",
       "0       C001    Alice Smith        Consumer\n",
       "1       C002    Bob Johnson       Corporate\n",
       "2       C003    Charlie Lee  Small Business\n",
       "3       C004   Diana Prince        Consumer\n",
       "4       C005  Edward Norton       Corporate"
      ]
     },
     "execution_count": 20,
     "metadata": {},
     "output_type": "execute_result"
    }
   ],
   "source": [
    "# c) Merging DataFrames\n",
    "\n",
    "import pandas as pd\n",
    "\n",
    "transactions = pd.read_csv('I:\\\\SWPU Research\\\\Research_Task\\\\BytesOfIntelligence\\\\Data-Science-and-Machine-Learning\\\\redownload-data\\\\transactions.csv')\n",
    "customers = pd.read_csv('I:\\\\SWPU Research\\\\Research_Task\\\\BytesOfIntelligence\\\\Data-Science-and-Machine-Learning\\\\redownload-data\\\\customers.csv')  \n",
    "\n",
    "customers.head()"
   ]
  },
  {
   "cell_type": "code",
   "execution_count": 21,
   "metadata": {},
   "outputs": [
    {
     "data": {
      "text/html": [
       "<div>\n",
       "<style scoped>\n",
       "    .dataframe tbody tr th:only-of-type {\n",
       "        vertical-align: middle;\n",
       "    }\n",
       "\n",
       "    .dataframe tbody tr th {\n",
       "        vertical-align: top;\n",
       "    }\n",
       "\n",
       "    .dataframe thead th {\n",
       "        text-align: right;\n",
       "    }\n",
       "</style>\n",
       "<table border=\"1\" class=\"dataframe\">\n",
       "  <thead>\n",
       "    <tr style=\"text-align: right;\">\n",
       "      <th></th>\n",
       "      <th>TransactionID</th>\n",
       "      <th>CustomerID</th>\n",
       "      <th>ProductID</th>\n",
       "      <th>Quantity</th>\n",
       "      <th>Price</th>\n",
       "      <th>TransactionDate</th>\n",
       "    </tr>\n",
       "  </thead>\n",
       "  <tbody>\n",
       "    <tr>\n",
       "      <th>0</th>\n",
       "      <td>T001</td>\n",
       "      <td>C001</td>\n",
       "      <td>P001</td>\n",
       "      <td>2</td>\n",
       "      <td>20.0</td>\n",
       "      <td>2023-01-15</td>\n",
       "    </tr>\n",
       "    <tr>\n",
       "      <th>1</th>\n",
       "      <td>T002</td>\n",
       "      <td>C002</td>\n",
       "      <td>P003</td>\n",
       "      <td>1</td>\n",
       "      <td>35.5</td>\n",
       "      <td>2023-01-16</td>\n",
       "    </tr>\n",
       "    <tr>\n",
       "      <th>2</th>\n",
       "      <td>T003</td>\n",
       "      <td>C003</td>\n",
       "      <td>P002</td>\n",
       "      <td>5</td>\n",
       "      <td>15.0</td>\n",
       "      <td>2023-01-17</td>\n",
       "    </tr>\n",
       "    <tr>\n",
       "      <th>3</th>\n",
       "      <td>T004</td>\n",
       "      <td>C001</td>\n",
       "      <td>P002</td>\n",
       "      <td>3</td>\n",
       "      <td>15.0</td>\n",
       "      <td>2023-02-01</td>\n",
       "    </tr>\n",
       "    <tr>\n",
       "      <th>4</th>\n",
       "      <td>T005</td>\n",
       "      <td>C004</td>\n",
       "      <td>P001</td>\n",
       "      <td>1</td>\n",
       "      <td>20.0</td>\n",
       "      <td>2023-02-05</td>\n",
       "    </tr>\n",
       "  </tbody>\n",
       "</table>\n",
       "</div>"
      ],
      "text/plain": [
       "  TransactionID CustomerID ProductID  Quantity  Price TransactionDate\n",
       "0          T001       C001      P001         2   20.0      2023-01-15\n",
       "1          T002       C002      P003         1   35.5      2023-01-16\n",
       "2          T003       C003      P002         5   15.0      2023-01-17\n",
       "3          T004       C001      P002         3   15.0      2023-02-01\n",
       "4          T005       C004      P001         1   20.0      2023-02-05"
      ]
     },
     "execution_count": 21,
     "metadata": {},
     "output_type": "execute_result"
    }
   ],
   "source": [
    "transactions.head()"
   ]
  },
  {
   "cell_type": "code",
   "execution_count": 22,
   "metadata": {},
   "outputs": [
    {
     "name": "stdout",
     "output_type": "stream",
     "text": [
      "Transactions columns: Index(['TransactionID', 'CustomerID', 'ProductID', 'Quantity', 'Price',\n",
      "       'TransactionDate'],\n",
      "      dtype='object')\n",
      "Customers columns: Index(['CustomerID', 'Name', 'Segment'], dtype='object')\n",
      "          Segment  Revenue\n",
      "0        Consumer    471.0\n",
      "1       Corporate    416.5\n",
      "2  Small Business    145.0\n"
     ]
    }
   ],
   "source": [
    "customers.columns = customers.columns.str.strip()\n",
    "\n",
    "merged_df = pd.merge(transactions, customers, on=\"CustomerID\", how=\"inner\")\n",
    "merged_df['Revenue'] = merged_df['Quantity'] * merged_df['Price']\n",
    "\n",
    "revenue_by_segment = merged_df.groupby('Segment')['Revenue'].sum().reset_index()\n",
    "revenue_by_segment_sorted = revenue_by_segment.sort_values(by='Revenue', ascending=False)\n",
    "\n",
    "print(\"Transactions columns:\", transactions.columns)\n",
    "print(\"Customers columns:\", customers.columns)\n",
    "# Display the results\n",
    "print(revenue_by_segment_sorted)"
   ]
  },
  {
   "cell_type": "markdown",
   "metadata": {},
   "source": [
    "### Question 5: Data Visualization"
   ]
  },
  {
   "cell_type": "code",
   "execution_count": 23,
   "metadata": {},
   "outputs": [],
   "source": [
    "\n",
    "\n",
    "# a) Matplotlib Visualization\n",
    "\n",
    "import matplotlib.pyplot as plt\n",
    "\n",
    "merged_df['TransactionDate'] = pd.to_datetime(merged_df['TransactionDate'])\n",
    "merged_df['Month'] = merged_df['TransactionDate'].dt.to_period('M')\n",
    "\n",
    "monthly_revenue = merged_df.groupby('Month')['Revenue'].sum().reset_index()\n"
   ]
  },
  {
   "cell_type": "code",
   "execution_count": 24,
   "metadata": {},
   "outputs": [
    {
     "data": {
      "image/png": "[encoded data removed]",
      "text/plain": [
       "<Figure size 1000x600 with 1 Axes>"
      ]
     },
     "metadata": {},
     "output_type": "display_data"
    }
   ],
   "source": [
    "plt.figure(figsize=(10, 6))\n",
    "plt.plot(monthly_revenue['Month'].astype(str), monthly_revenue['Revenue'], marker='o', color='b', label='Total Revenue')\n",
    "plt.title('Monthly Total Revenue Over Time', fontsize=14)\n",
    "plt.xlabel('Month', fontsize=12)\n",
    "plt.ylabel('Total Revenue', fontsize=12)\n",
    "plt.xticks(rotation=45)  \n",
    "plt.legend()\n",
    "plt.grid(True)\n",
    "plt.tight_layout()\n",
    "plt.show()"
   ]
  },
  {
   "cell_type": "code",
   "execution_count": 25,
   "metadata": {},
   "outputs": [
    {
     "data": {
      "image/png": "[encoded data removed]",
      "text/plain": [
       "<Figure size 1000x600 with 1 Axes>"
      ]
     },
     "metadata": {},
     "output_type": "display_data"
    }
   ],
   "source": [
    "# ! pip install seaborn\n",
    "import seaborn as sns\n",
    "import matplotlib.pyplot as plt\n",
    "\n",
    "merged_df['TransactionAmount'] = merged_df['Quantity'] * merged_df['Price']\n",
    "\n",
    "\n",
    "\n",
    "plt.figure(figsize=(10, 6))\n",
    "sns.histplot(merged_df['TransactionAmount'], kde=True, bins=30, color='purple', edgecolor='black')\n",
    "plt.title('Distribution of Transaction Amounts', fontsize=14)\n",
    "plt.xlabel('Transaction Amount', fontsize=12)\n",
    "plt.ylabel('Frequency', fontsize=12)\n",
    "plt.tight_layout()\n",
    "plt.show()"
   ]
  },
  {
   "cell_type": "markdown",
   "metadata": {},
   "source": [
    "### Question 6: Application of Data Analysis Concepts"
   ]
  },
  {
   "cell_type": "code",
   "execution_count": 26,
   "metadata": {},
   "outputs": [
    {
     "data": {
      "image/png": "[encoded data removed]",
      "text/plain": [
       "<Figure size 1000x600 with 1 Axes>"
      ]
     },
     "metadata": {},
     "output_type": "display_data"
    }
   ],
   "source": [
    "# a) Exploratory Data Analysis (EDA)\n",
    "\n",
    "product_revenue = transactions.groupby('ProductID').apply(\n",
    "    lambda x: (x['Quantity'] * x['Price']).sum()).reset_index(name='TotalRevenue')\n",
    "\n",
    "product_revenue_sorted = product_revenue.sort_values(by='TotalRevenue', ascending=False)\n",
    "\n",
    "\n",
    "\n",
    "plt.figure(figsize=(10, 6))\n",
    "sns.barplot(x='ProductID', y='TotalRevenue', data=product_revenue_sorted.head(10), palette='viridis')\n",
    "plt.title('Top 10 Products by Total Revenue', fontsize=14)\n",
    "plt.xlabel('Product ID', fontsize=12)\n",
    "plt.ylabel('Total Revenue', fontsize=12)\n",
    "plt.xticks(rotation=45)\n",
    "plt.tight_layout()\n",
    "plt.show()"
   ]
  },
  {
   "cell_type": "code",
   "execution_count": 27,
   "metadata": {},
   "outputs": [
    {
     "data": {
      "image/png": "[encoded data removed]",
      "text/plain": [
       "<Figure size 1200x600 with 1 Axes>"
      ]
     },
     "metadata": {},
     "output_type": "display_data"
    }
   ],
   "source": [
    "\n",
    "\n",
    "transactions['TransactionDate'] = pd.to_datetime(transactions['TransactionDate'])\n",
    "transactions['MonthYear'] = transactions['TransactionDate'].dt.to_period('M')\n",
    "transactions['MonthYear'] = transactions['MonthYear'].astype(str)\n",
    "transactions['Revenue'] = transactions['Quantity'] * transactions['Price']\n",
    "\n",
    "\n",
    "monthly_revenue = transactions.groupby('MonthYear')['Revenue'].sum().reset_index(name='TotalRevenue')\n",
    "monthly_revenue['TotalRevenue'] = pd.to_numeric(monthly_revenue['TotalRevenue'], errors='coerce')\n",
    "\n",
    "\n",
    "plt.figure(figsize=(12, 6))\n",
    "sns.lineplot(x='MonthYear', y='TotalRevenue', data=monthly_revenue, marker='o', color='blue')\n",
    "plt.title('Monthly Revenue Trend', fontsize=14)\n",
    "plt.xlabel('Month-Year', fontsize=12)\n",
    "plt.ylabel('Total Revenue', fontsize=12)\n",
    "plt.xticks(rotation=45)\n",
    "plt.tight_layout()\n",
    "plt.show()\n"
   ]
  },
  {
   "cell_type": "code",
   "execution_count": 28,
   "metadata": {},
   "outputs": [
    {
     "name": "stdout",
     "output_type": "stream",
     "text": [
      "Missing values in the dataset:\n",
      "TransactionID      0\n",
      "CustomerID         0\n",
      "ProductID          0\n",
      "Quantity           0\n",
      "Price              0\n",
      "TransactionDate    0\n",
      "MonthYear          0\n",
      "Revenue            0\n",
      "dtype: int64\n"
     ]
    }
   ],
   "source": [
    "# b) Data Preprocessing\n",
    "transactions['Price'].fillna(transactions['Price'].median(), inplace=True)\n",
    "\n",
    "print(\"Missing values in the dataset:\")\n",
    "print(transactions.isnull().sum())"
   ]
  },
  {
   "cell_type": "code",
   "execution_count": 29,
   "metadata": {},
   "outputs": [],
   "source": [
    "# feture engineering\n",
    "\n",
    "transactions['TransactionDate'] = pd.to_datetime(transactions['TransactionDate'])\n",
    "transactions['Year'] = transactions['TransactionDate'].dt.year\n",
    "transactions['Month'] = transactions['TransactionDate'].dt.month\n",
    "transactions['DayOfWeek'] = transactions['TransactionDate'].dt.dayofweek  \n",
    "transactions['Revenue'] = transactions['Quantity'] * transactions['Price']\n",
    "\n",
    "customer_revenue = transactions.groupby('CustomerID')['Revenue'].sum().reset_index()\n",
    "\n",
    "transactions = pd.merge(transactions, customer_revenue, on='CustomerID', suffixes=('', '_TotalRevenue'))"
   ]
  },
  {
   "cell_type": "code",
   "execution_count": 30,
   "metadata": {},
   "outputs": [
    {
     "name": "stdout",
     "output_type": "stream",
     "text": [
      "Merged DataFrame has been saved to 'merged_data.csv'.\n"
     ]
    }
   ],
   "source": [
    "# i got problem with prevous file that's why again need to use the modified file to Save the merged DataFrame to a new CSV file\n",
    "merged_df.to_csv('merged_data.csv', index=False)\n",
    "\n",
    "print(\"Merged DataFrame has been saved to 'merged_data.csv'.\")"
   ]
  },
  {
   "cell_type": "code",
   "execution_count": 31,
   "metadata": {},
   "outputs": [
    {
     "name": "stdout",
     "output_type": "stream",
     "text": [
      "Index(['TransactionID', 'CustomerID', 'ProductID', 'Quantity', 'Price',\n",
      "       'TransactionDate', 'Name', 'Segment', 'Revenue', 'Month',\n",
      "       'TransactionAmount'],\n",
      "      dtype='object')\n"
     ]
    }
   ],
   "source": [
    "print(merged_df.columns)"
   ]
  },
  {
   "cell_type": "code",
   "execution_count": 32,
   "metadata": {},
   "outputs": [],
   "source": [
    "merged_df.columns = merged_df.columns.str.strip()"
   ]
  },
  {
   "cell_type": "code",
   "execution_count": 33,
   "metadata": {},
   "outputs": [
    {
     "name": "stdout",
     "output_type": "stream",
     "text": [
      "Index(['TransactionID', 'CustomerID', 'ProductID', 'Quantity', 'Price',\n",
      "       'TransactionDate', 'Name', 'Segment', 'Revenue', 'Month',\n",
      "       'TransactionAmount'],\n",
      "      dtype='object')\n"
     ]
    }
   ],
   "source": [
    "print(merged_df.columns)"
   ]
  },
  {
   "cell_type": "code",
   "execution_count": 34,
   "metadata": {},
   "outputs": [
    {
     "name": "stdout",
     "output_type": "stream",
     "text": [
      "  TransactionID CustomerID ProductID  Quantity  Price TransactionDate  \\\n",
      "0          T001       C001      P001         2   20.0      2023-01-15   \n",
      "1          T004       C001      P002         3   15.0      2023-02-01   \n",
      "2          T009       C001      P003         2   35.5      2023-03-20   \n",
      "3          T015       C001      P004         3   50.0      2023-05-20   \n",
      "4          T002       C002      P003         1   35.5      2023-01-16   \n",
      "\n",
      "          Name    Segment  Revenue    Month  TransactionAmount  \n",
      "0  Alice Smith   Consumer     40.0  2023-01               40.0  \n",
      "1  Alice Smith   Consumer     45.0  2023-02               45.0  \n",
      "2  Alice Smith   Consumer     71.0  2023-03               71.0  \n",
      "3  Alice Smith   Consumer    150.0  2023-05              150.0  \n",
      "4  Bob Johnson  Corporate     35.5  2023-01               35.5  \n"
     ]
    }
   ],
   "source": [
    "print(merged_df.head())"
   ]
  },
  {
   "cell_type": "code",
   "execution_count": 35,
   "metadata": {},
   "outputs": [
    {
     "name": "stdout",
     "output_type": "stream",
     "text": [
      "Columns in merged dataframe: Index(['TransactionID', 'CustomerID', 'ProductID', 'Quantity', 'Price',\n",
      "       'TransactionDate', 'Name', 'Segment', 'Revenue', 'Month',\n",
      "       'TransactionAmount'],\n",
      "      dtype='object')\n",
      "Columns after encoding: Index(['TransactionID', 'CustomerID', 'ProductID', 'Quantity', 'Price',\n",
      "       'TransactionDate', 'Name', 'Revenue', 'Month', 'TransactionAmount',\n",
      "       'Segment_Corporate', 'Segment_Small Business'],\n",
      "      dtype='object')\n"
     ]
    }
   ],
   "source": [
    "\n",
    "import pandas as pd\n",
    "\n",
    "merged_df = pd.read_csv('merged_data.csv')\n",
    "merged_df.columns = merged_df.columns.str.strip()\n",
    "\n",
    "\n",
    "print(\"Columns in merged dataframe:\", merged_df.columns)\n",
    "\n",
    "if 'Segment' in merged_df.columns:\n",
    "    \n",
    "    merged_df = pd.get_dummies(merged_df, columns=['Segment'], drop_first=True)\n",
    "    print(\"Columns after encoding:\", merged_df.columns)\n",
    "else:\n",
    "    print(\"Error: 'Segment' column not found in the merged DataFrame.\")"
   ]
  },
  {
   "cell_type": "code",
   "execution_count": 36,
   "metadata": {},
   "outputs": [
    {
     "name": "stdout",
     "output_type": "stream",
     "text": [
      "  CustomerID           Name         Segment\n",
      "0       C001    Alice Smith        Consumer\n",
      "1       C002    Bob Johnson       Corporate\n",
      "2       C003    Charlie Lee  Small Business\n",
      "3       C004   Diana Prince        Consumer\n",
      "4       C005  Edward Norton       Corporate\n"
     ]
    }
   ],
   "source": [
    "customers = pd.read_csv('I:\\\\SWPU Research\\\\Research_Task\\\\BytesOfIntelligence\\\\Data-Science-and-Machine-Learning\\\\redownload-data\\\\customers.csv')\n",
    "print(customers.head())"
   ]
  },
  {
   "cell_type": "code",
   "execution_count": 37,
   "metadata": {},
   "outputs": [
    {
     "name": "stdout",
     "output_type": "stream",
     "text": [
      "Index(['TransactionID', 'CustomerID', 'ProductID', 'Quantity', 'Price',\n",
      "       'TransactionDate', 'MonthYear', 'Revenue', 'Year', 'Month', 'DayOfWeek',\n",
      "       'Revenue_TotalRevenue', 'Segment'],\n",
      "      dtype='object')\n"
     ]
    }
   ],
   "source": [
    "\n",
    "merged_df = pd.merge(transactions, customers[['CustomerID', 'Segment']], on='CustomerID', how='inner')\n",
    "print(merged_df.columns)"
   ]
  },
  {
   "cell_type": "code",
   "execution_count": 38,
   "metadata": {},
   "outputs": [],
   "source": [
    "\n",
    "transactions.columns = transactions.columns.str.strip()\n",
    "customers.columns = customers.columns.str.strip()"
   ]
  },
  {
   "cell_type": "code",
   "execution_count": 39,
   "metadata": {},
   "outputs": [],
   "source": [
    "merged_df = pd.merge(transactions, customers[['CustomerID', 'Segment']], on='CustomerID', how='inner')"
   ]
  },
  {
   "cell_type": "code",
   "execution_count": 40,
   "metadata": {},
   "outputs": [
    {
     "name": "stdout",
     "output_type": "stream",
     "text": [
      "Index(['TransactionID', 'CustomerID', 'ProductID', 'Quantity', 'Price',\n",
      "       'TransactionDate', 'MonthYear', 'Revenue', 'Year', 'Month', 'DayOfWeek',\n",
      "       'Revenue_TotalRevenue', 'Segment'],\n",
      "      dtype='object')\n"
     ]
    }
   ],
   "source": [
    "print(merged_df.columns)"
   ]
  },
  {
   "cell_type": "code",
   "execution_count": 41,
   "metadata": {},
   "outputs": [
    {
     "name": "stdout",
     "output_type": "stream",
     "text": [
      "Transactions columns: Index(['TransactionID', 'CustomerID', 'ProductID', 'Quantity', 'Price',\n",
      "       'TransactionDate'],\n",
      "      dtype='object')\n",
      "Customers columns: Index(['CustomerID           Name         Segment'], dtype='object')\n",
      "Error: 'CustomerID' or 'Segment' column not found in the relevant DataFrames.\n",
      "  TransactionID CustomerID ProductID  Quantity  Price TransactionDate  \\\n",
      "0          T001       C001      P001         2   20.0      2023-01-15   \n",
      "1          T004       C001      P002         3   15.0      2023-02-01   \n",
      "2          T009       C001      P003         2   35.5      2023-03-20   \n",
      "3          T015       C001      P004         3   50.0      2023-05-20   \n",
      "4          T002       C002      P003         1   35.5      2023-01-16   \n",
      "\n",
      "  MonthYear  Revenue  Year  Month  DayOfWeek  Revenue_TotalRevenue    Segment  \n",
      "0   2023-01     40.0  2023      1          6                 306.0   Consumer  \n",
      "1   2023-02     45.0  2023      2          2                 306.0   Consumer  \n",
      "2   2023-03     71.0  2023      3          0                 306.0   Consumer  \n",
      "3   2023-05    150.0  2023      5          5                 306.0   Consumer  \n",
      "4   2023-01     35.5  2023      1          0                 265.5  Corporate  \n",
      "Columns after encoding: Index(['TransactionID', 'CustomerID', 'ProductID', 'Quantity', 'Price',\n",
      "       'TransactionDate', 'MonthYear', 'Revenue', 'Year', 'Month', 'DayOfWeek',\n",
      "       'Revenue_TotalRevenue', 'Segment_Corporate', 'Segment_Small Business'],\n",
      "      dtype='object')\n"
     ]
    }
   ],
   "source": [
    "import pandas as pd\n",
    "\n",
    "\n",
    "transactions = pd.read_csv('transactions.csv')\n",
    "customers = pd.read_csv('customers.csv')\n",
    "\n",
    "\n",
    "transactions.columns = transactions.columns.str.strip()\n",
    "customers.columns = customers.columns.str.strip()\n",
    "\n",
    "\n",
    "print(\"Transactions columns:\", transactions.columns)\n",
    "print(\"Customers columns:\", customers.columns)\n",
    "\n",
    "\n",
    "if 'CustomerID' in transactions.columns and 'Segment' in customers.columns:\n",
    "    merged_df = pd.merge(transactions, customers[['CustomerID', 'Segment']], on='CustomerID', how='inner')\n",
    "    print(\"Merged DataFrame columns:\", merged_df.columns)\n",
    "else:\n",
    "    print(\"Error: 'CustomerID' or 'Segment' column not found in the relevant DataFrames.\")\n",
    "print(merged_df.head())\n",
    "\n",
    "\n",
    "if 'Segment' in merged_df.columns:\n",
    "    merged_df = pd.get_dummies(merged_df, columns=['Segment'], drop_first=True)\n",
    "    print(\"Columns after encoding:\", merged_df.columns)\n",
    "else:\n",
    "    print(\"Error: 'Segment' column not found after merge.\")"
   ]
  }
 ],
 "metadata": {
  "kernelspec": {
   "display_name": "Data_Sci",
   "language": "python",
   "name": "python3"
  },
  "language_info": {
   "codemirror_mode": {
    "name": "ipython",
    "version": 3
   },
   "file_extension": ".py",
   "mimetype": "text/x-python",
   "name": "python",
   "nbconvert_exporter": "python",
   "pygments_lexer": "ipython3",
   "version": "3.7.16"
  }
 },
 "nbformat": 4,
 "nbformat_minor": 2
}
